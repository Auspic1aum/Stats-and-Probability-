{
 "cells": [
  {
   "cell_type": "code",
   "execution_count": 4,
   "id": "887da0f8",
   "metadata": {},
   "outputs": [],
   "source": [
    "import numpy as np"
   ]
  },
  {
   "cell_type": "markdown",
   "id": "593bd572",
   "metadata": {},
   "source": [
    "### Basics of Matrix"
   ]
  },
  {
   "cell_type": "markdown",
   "id": "6f4f1f42",
   "metadata": {},
   "source": [
    "Cross Product"
   ]
  },
  {
   "cell_type": "code",
   "execution_count": 14,
   "id": "aad0962c",
   "metadata": {},
   "outputs": [
    {
     "name": "stdout",
     "output_type": "stream",
     "text": [
      "[[  0   0   0]\n",
      " [ 12  16 -18]]\n"
     ]
    }
   ],
   "source": [
    "x = np.array([[1,2,3],[0,9,8]])\n",
    "y = np.array([[1,2,3],[2,3,4]])\n",
    "\n",
    "cp = np.cross(x,y)\n",
    "print(cp)"
   ]
  },
  {
   "cell_type": "markdown",
   "id": "6c9ef6f1",
   "metadata": {},
   "source": [
    "Dot Product"
   ]
  },
  {
   "cell_type": "code",
   "execution_count": 16,
   "id": "ebc0bbed",
   "metadata": {},
   "outputs": [
    {
     "name": "stdout",
     "output_type": "stream",
     "text": [
      "14\n"
     ]
    }
   ],
   "source": [
    "x = np.array([1,2,3])\n",
    "y = np.array([1,2,3])\n",
    "\n",
    "dp = np.dot(x,y)\n",
    "print(dp)"
   ]
  },
  {
   "cell_type": "markdown",
   "id": "ef6a471f",
   "metadata": {},
   "source": [
    "Inverse of Matrix"
   ]
  },
  {
   "cell_type": "code",
   "execution_count": 39,
   "id": "3aebd64e",
   "metadata": {},
   "outputs": [
    {
     "name": "stdout",
     "output_type": "stream",
     "text": [
      "[[ 2. -1.]\n",
      " [-1.  1.]]\n",
      "we will get a unit matrix   [[1. 0.]\n",
      " [0. 1.]]\n"
     ]
    }
   ],
   "source": [
    "z = np.array([[1,1],[1,2]])\n",
    "z_inv = np.linalg.inv(z)\n",
    "print(z_inv)\n",
    "\n",
    "#inverse test\n",
    "print(\"we will get a unit matrix  \", np.dot(z, z_inv))"
   ]
  },
  {
   "cell_type": "markdown",
   "id": "b2fcda03",
   "metadata": {},
   "source": [
    "Determinant of Matrix"
   ]
  },
  {
   "cell_type": "code",
   "execution_count": 42,
   "id": "27ccd808",
   "metadata": {},
   "outputs": [
    {
     "name": "stdout",
     "output_type": "stream",
     "text": [
      "1.0\n"
     ]
    }
   ],
   "source": [
    "det_z = np.linalg.det(z)\n",
    "print(det_z)"
   ]
  },
  {
   "cell_type": "markdown",
   "id": "5f1d6606",
   "metadata": {},
   "source": [
    "Eigenvalues and Eigenvectors"
   ]
  },
  {
   "cell_type": "code",
   "execution_count": 59,
   "id": "d4bb07ba",
   "metadata": {},
   "outputs": [
    {
     "name": "stdout",
     "output_type": "stream",
     "text": [
      "Eigenvalues: [ 1.61168440e+01 -1.11684397e+00 -3.38433605e-16]\n",
      "Eigenvalues: [[-0.23197069 -0.78583024  0.40824829]\n",
      " [-0.52532209 -0.08675134 -0.81649658]\n",
      " [-0.8186735   0.61232756  0.40824829]]\n"
     ]
    }
   ],
   "source": [
    "big_x = np.array([[1,2,3], [4,5,6], [7,8,9]])\n",
    "np.linalg.eigvals(big_x)\n",
    "eigenvalues, eigenvectors = np.linalg.eig(big_x)\n",
    "print(\"Eigenvalues:\", eigenvalues)\n",
    "print(\"Eigenvalues:\", eigenvectors)"
   ]
  },
  {
   "cell_type": "markdown",
   "id": "2203cce8",
   "metadata": {},
   "source": [
    "### Co-variance Matrix"
   ]
  },
  {
   "cell_type": "code",
   "execution_count": 56,
   "id": "92c715f9",
   "metadata": {},
   "outputs": [
    {
     "name": "stdout",
     "output_type": "stream",
     "text": [
      "[[1.66666667 1.66666667]\n",
      " [1.66666667 1.66666667]]\n"
     ]
    }
   ],
   "source": [
    "import numpy as np\n",
    "\n",
    "# Create a dataset with two variables (2 columns) and multiple observations (rows)\n",
    "data = np.array([[1, 2, 3, 4],\n",
    "                 [5, 6, 7, 8]])\n",
    "\n",
    "# Compute the covariance matrix\n",
    "cov_matrix = np.cov(data, rowvar=True)\n",
    "\n",
    "print(cov_matrix)"
   ]
  },
  {
   "cell_type": "markdown",
   "id": "045e104d",
   "metadata": {},
   "source": [
    "### Singular Value decomposition "
   ]
  },
  {
   "cell_type": "code",
   "execution_count": 150,
   "id": "e2da23fc",
   "metadata": {},
   "outputs": [],
   "source": [
    "big_x = np.array([[1,2,99], [5,7,3], [2,4,28]])\n",
    "print(np.linalg.det(big_x)) #check if det is not zero"
   ]
  },
  {
   "cell_type": "code",
   "execution_count": 153,
   "id": "17642903",
   "metadata": {},
   "outputs": [],
   "source": [
    "U,sig,Vt = np.linalg.svd(big_x) #singular value decomp\n",
    "\n",
    "matl = []                           # converting 1D sigma to 3D diagonal matrix \n",
    "for j in range(3):\n",
    "    x_press = []\n",
    "    for i in range(3):\n",
    "        if i==j:\n",
    "            x_press.append(sig[i])\n",
    "        else:\n",
    "            x_press.append(0)\n",
    "    matl.append(x_press)"
   ]
  },
  {
   "cell_type": "code",
   "execution_count": null,
   "id": "5a6475e2",
   "metadata": {},
   "outputs": [],
   "source": [
    "#validation for is svd multiplies to original matrix \n",
    "\n",
    "new_x = np.dot(U, np.dot(matl,Vt))\n",
    "print(new_x)"
   ]
  },
  {
   "cell_type": "code",
   "execution_count": 156,
   "id": "cc5a64fc",
   "metadata": {},
   "outputs": [
    {
     "name": "stdout",
     "output_type": "stream",
     "text": [
      "[[ 0.36078431  0.66666667 -1.34705882]\n",
      " [-0.2627451  -0.33333333  0.96470588]\n",
      " [ 0.01176471  0.         -0.00588235]]\n"
     ]
    }
   ],
   "source": [
    "#inverse of big X using standard method \n",
    "big_x_inv = np.linalg.inv(big_x)\n",
    "print(big_x_inv)"
   ]
  },
  {
   "cell_type": "code",
   "execution_count": 157,
   "id": "bb09e901",
   "metadata": {},
   "outputs": [
    {
     "name": "stdout",
     "output_type": "stream",
     "text": [
      "[[ 3.60784314e-01  6.66666667e-01 -1.34705882e+00]\n",
      " [-2.62745098e-01 -3.33333333e-01  9.64705882e-01]\n",
      " [ 1.17647059e-02  1.03829124e-17 -5.88235294e-03]]\n"
     ]
    }
   ],
   "source": [
    "#inverse of big_x using svd \n",
    "U,sig,Vt\n",
    "U_inv = np.linalg.inv(U) #inverse of U\n",
    "sig_inv = np.linalg.inv(matl) #inverse of sig\n",
    "Vt_inv = np.linalg.inv(Vt) #inverse of Vt \n",
    "\n",
    "big_x_invsvd = np.dot(Vt_inv, np.dot(sig_inv, U_inv))\n",
    "print(big_x_invsvd)"
   ]
  },
  {
   "cell_type": "code",
   "execution_count": 164,
   "id": "f16af745",
   "metadata": {},
   "outputs": [
    {
     "data": {
      "text/plain": [
       "array([[ 1.00000000e+00,  1.24995293e-15, -5.35075456e-15],\n",
       "       [-3.98986399e-17,  1.00000000e+00,  2.44856219e-15],\n",
       "       [ 8.11850587e-16,  7.34810757e-16,  1.00000000e+00]])"
      ]
     },
     "execution_count": 164,
     "metadata": {},
     "output_type": "execute_result"
    }
   ],
   "source": [
    "#validation of inverse using SVD \n",
    "np.dot(big_x,big_x_invsvd)"
   ]
  },
  {
   "cell_type": "markdown",
   "id": "24338e84",
   "metadata": {},
   "source": [
    "### Solve a System of Linear Equation"
   ]
  },
  {
   "cell_type": "markdown",
   "id": "2132c632",
   "metadata": {},
   "source": [
    "big_x is matrix of coefficient and solution matrix is sol_mat"
   ]
  },
  {
   "cell_type": "code",
   "execution_count": 185,
   "id": "76b51da4",
   "metadata": {},
   "outputs": [
    {
     "name": "stdout",
     "output_type": "stream",
     "text": [
      "rank of coeffecient matrix 3\n"
     ]
    }
   ],
   "source": [
    "sol_mat = np.array([[-1],[5],[6]])\n",
    "print(\"rank of coeffecient matrix\", np.linalg.matrix_rank(big_x)) "
   ]
  },
  {
   "cell_type": "code",
   "execution_count": 187,
   "id": "8a341f24",
   "metadata": {},
   "outputs": [
    {
     "name": "stdout",
     "output_type": "stream",
     "text": [
      "rank of augmented matrix 3\n"
     ]
    }
   ],
   "source": [
    "test_lin = np.array([[1,2,99,-1], [5,7,3,5], [2,4,28,6]])\n",
    "print(\"rank of augmented matrix\", np.linalg.matrix_rank(test_lin)) #rank of augmented matrix \n",
    "#if rank of coeffcient matrix = rank of augmented matrix = number of unknowns then system has unique solution \n",
    "#if rank of coeffcient matrix = rank of augmented matrix < number of unknowns then infinite solutions \n",
    "# if rank of coeffcient matrix < rank of augmented matrix  then No solution "
   ]
  },
  {
   "cell_type": "code",
   "execution_count": 189,
   "id": "81b4ab64",
   "metadata": {},
   "outputs": [
    {
     "data": {
      "text/plain": [
       "array([[-5.10980392],\n",
       "       [ 4.38431373],\n",
       "       [-0.04705882]])"
      ]
     },
     "execution_count": 189,
     "metadata": {},
     "output_type": "execute_result"
    }
   ],
   "source": [
    "np.dot(big_x_inv,sol_mat) #Unique solution matrix"
   ]
  },
  {
   "cell_type": "markdown",
   "id": "8403e2c9",
   "metadata": {},
   "source": [
    "### Principal Component Analysis using SVD"
   ]
  },
  {
   "cell_type": "code",
   "execution_count": 8,
   "id": "bc4cecd4",
   "metadata": {},
   "outputs": [
    {
     "name": "stdout",
     "output_type": "stream",
     "text": [
      "[0, 0, 0, 0, 0, 0, 0, 0, 0, 0, 0, 0, 0, 0, 0, 0, 0, 0, 0, 0, 0, 0, 0, 0, 0, 0, 0, 0, 0, 0, 0, 0, 569]\n"
     ]
    }
   ],
   "source": [
    "import pandas as pd \n",
    "from matplotlib import pyplot as plt\n",
    "from sklearn.preprocessing import StandardScaler\n",
    "\n",
    "path = 'C:\\\\Users\\\\Dell\\\\Desktop\\\\Others\\\\PCA\\\\data.csv'\n",
    "df = pd.read_csv(path)\n",
    "\n",
    "#check if there are nulls \n",
    "cnt_list = []\n",
    "for j in df.columns:\n",
    "    cnt = 0\n",
    "    for i in df.isna()[j]:\n",
    "        if i == True:\n",
    "            cnt = cnt+1\n",
    "    cnt_list.append(cnt)\n",
    "\n",
    "print(cnt_list)"
   ]
  },
  {
   "cell_type": "code",
   "execution_count": 9,
   "id": "a4ff33f6",
   "metadata": {},
   "outputs": [],
   "source": [
    "df = df.drop(['Unnamed: 32', 'diagnosis'], axis=1)\n",
    "k = StandardScaler().fit_transform(df)\n",
    "U,sig,Vt = np.linalg.svd(k)\n",
    "\n",
    "# The principal components are the rows of Vt (or columns of V.T)\n",
    "principal_components = Vt.T\n",
    "\n",
    "z = 2\n",
    "X_pca = np.dot(k, principal_components[:, :z])"
   ]
  },
  {
   "cell_type": "code",
   "execution_count": 10,
   "id": "b9a669b5",
   "metadata": {},
   "outputs": [
    {
     "data": {
      "text/plain": [
       "array([[ 9.18319983,  1.97127137],\n",
       "       [ 2.38329766, -3.75345877],\n",
       "       [ 5.74247239, -1.08035048],\n",
       "       ...,\n",
       "       [ 1.2518901 , -1.89397674],\n",
       "       [10.36503528,  1.69639755],\n",
       "       [-5.47826365, -0.67278804]])"
      ]
     },
     "execution_count": 10,
     "metadata": {},
     "output_type": "execute_result"
    }
   ],
   "source": [
    "X_pca"
   ]
  },
  {
   "cell_type": "code",
   "execution_count": null,
   "id": "6ad75da8",
   "metadata": {},
   "outputs": [],
   "source": []
  }
 ],
 "metadata": {
  "kernelspec": {
   "display_name": "Python 3 (ipykernel)",
   "language": "python",
   "name": "python3"
  },
  "language_info": {
   "codemirror_mode": {
    "name": "ipython",
    "version": 3
   },
   "file_extension": ".py",
   "mimetype": "text/x-python",
   "name": "python",
   "nbconvert_exporter": "python",
   "pygments_lexer": "ipython3",
   "version": "3.9.7"
  }
 },
 "nbformat": 4,
 "nbformat_minor": 5
}
