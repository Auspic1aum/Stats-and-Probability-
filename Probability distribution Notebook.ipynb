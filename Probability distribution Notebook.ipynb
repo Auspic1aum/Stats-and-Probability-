{
 "cells": [
  {
   "cell_type": "code",
   "execution_count": 8,
   "id": "e0ac05c4",
   "metadata": {},
   "outputs": [],
   "source": [
    "import numpy as np\n",
    "import scipy.stats as stats "
   ]
  },
  {
   "cell_type": "markdown",
   "id": "35d4c494",
   "metadata": {},
   "source": [
    "## Normal distribution in conjunction with Bionomial distribution "
   ]
  },
  {
   "cell_type": "markdown",
   "id": "722c8d61",
   "metadata": {},
   "source": [
    "### Problem 1 : If student's scores are normally distributed with mean = 70 and standard deviation = 10 , what is the probability that 80 students in a class of 100 will score more than 75?"
   ]
  },
  {
   "cell_type": "code",
   "execution_count": 6,
   "id": "9092e65d",
   "metadata": {},
   "outputs": [],
   "source": [
    "m = 70 \n",
    "sd = 10 \n",
    "\n",
    "#let's find out probability of any random student more marks than 75 marks \n",
    "\n",
    "z = (75-70)/10 #z value calulation to find out probability in z table \n",
    "\n",
    "pp = 1- stats.norm.cdf(z)\n",
    "pn = stats.norm.cdf(z)"
   ]
  },
  {
   "cell_type": "code",
   "execution_count": 13,
   "id": "d5efa1ff",
   "metadata": {},
   "outputs": [
    {
     "data": {
      "text/plain": [
       "0.3085375387259869"
      ]
     },
     "execution_count": 13,
     "metadata": {},
     "output_type": "execute_result"
    }
   ],
   "source": [
    "pp #probaility of any random student scoring above 75 marks "
   ]
  },
  {
   "cell_type": "code",
   "execution_count": 15,
   "id": "faa6e542",
   "metadata": {},
   "outputs": [
    {
     "data": {
      "text/plain": [
       "0.6914624612740131"
      ]
     },
     "execution_count": 15,
     "metadata": {},
     "output_type": "execute_result"
    }
   ],
   "source": [
    "pn #probability of any random student scoring below 75"
   ]
  },
  {
   "cell_type": "code",
   "execution_count": 17,
   "id": "e6305e37",
   "metadata": {},
   "outputs": [
    {
     "data": {
      "text/plain": [
       "4.668359885333409e-24"
      ]
     },
     "execution_count": 17,
     "metadata": {},
     "output_type": "execute_result"
    }
   ],
   "source": [
    "#application of bionomial distribution \n",
    "stats.binom.pmf(80, 100, pp)"
   ]
  },
  {
   "cell_type": "code",
   "execution_count": null,
   "id": "39c1844c",
   "metadata": {},
   "outputs": [],
   "source": []
  },
  {
   "cell_type": "markdown",
   "id": "be39d5c1",
   "metadata": {},
   "source": [
    "## Poisson Distribution"
   ]
  },
  {
   "cell_type": "markdown",
   "id": "d1937942",
   "metadata": {},
   "source": [
    "### Problem 2: On an averaage 30 cars pass through a toll booth in an hour on a toll plaza\n",
    "\n",
    "### a. what is the prbability that exactly 50 cars will pass through toll in next one hour \n",
    "#### b. what is the probability that at least 50 cars will pass through toll in next one hour \n",
    "#### c. what is the probability that maximum 50 cars will pass through toll in next one hour"
   ]
  },
  {
   "cell_type": "code",
   "execution_count": 20,
   "id": "8a5737f9",
   "metadata": {},
   "outputs": [],
   "source": [
    "l = 30 #lambda \n",
    "x = 50 "
   ]
  },
  {
   "cell_type": "code",
   "execution_count": 37,
   "id": "8a885a44",
   "metadata": {},
   "outputs": [
    {
     "data": {
      "text/plain": [
       "0.00022087848072126846"
      ]
     },
     "execution_count": 37,
     "metadata": {},
     "output_type": "execute_result"
    }
   ],
   "source": [
    "stats.poisson.pmf(50, 30) #probability of exactly 50 cars in next one hour "
   ]
  },
  {
   "cell_type": "code",
   "execution_count": 38,
   "id": "c1723119",
   "metadata": {},
   "outputs": [
    {
     "data": {
      "text/plain": [
       "0.9997019870181733"
      ]
     },
     "execution_count": 38,
     "metadata": {},
     "output_type": "execute_result"
    }
   ],
   "source": [
    "stats.poisson.cdf(50, 30) # probability of less than 50 cars will pass in next one hour"
   ]
  },
  {
   "cell_type": "code",
   "execution_count": 39,
   "id": "ac29fbe0",
   "metadata": {},
   "outputs": [
    {
     "data": {
      "text/plain": [
       "0.0002980129818267452"
      ]
     },
     "execution_count": 39,
     "metadata": {},
     "output_type": "execute_result"
    }
   ],
   "source": [
    "1 - stats.poisson.cdf(50, 30) #probability of more than 50 cars will pass in next one hour"
   ]
  },
  {
   "cell_type": "code",
   "execution_count": null,
   "id": "a14d972a",
   "metadata": {},
   "outputs": [],
   "source": []
  },
  {
   "cell_type": "markdown",
   "id": "1dbb4502",
   "metadata": {},
   "source": [
    "# Pareto's distribution "
   ]
  },
  {
   "cell_type": "markdown",
   "id": "e4907339",
   "metadata": {},
   "source": [
    "### Problem 3: a Wealth distribution follows a pareto's distribution in a certain country. what % of people earn more than 1 Lakh"
   ]
  },
  {
   "cell_type": "code",
   "execution_count": 46,
   "id": "f795bc57",
   "metadata": {},
   "outputs": [
    {
     "data": {
      "text/plain": [
       "1.0"
      ]
     },
     "execution_count": 46,
     "metadata": {},
     "output_type": "execute_result"
    }
   ],
   "source": [
    "stats.pareto.cdf(2000, 3000, 1000)"
   ]
  },
  {
   "cell_type": "code",
   "execution_count": null,
   "id": "d1273993",
   "metadata": {},
   "outputs": [],
   "source": []
  }
 ],
 "metadata": {
  "kernelspec": {
   "display_name": "Python 3 (ipykernel)",
   "language": "python",
   "name": "python3"
  },
  "language_info": {
   "codemirror_mode": {
    "name": "ipython",
    "version": 3
   },
   "file_extension": ".py",
   "mimetype": "text/x-python",
   "name": "python",
   "nbconvert_exporter": "python",
   "pygments_lexer": "ipython3",
   "version": "3.9.7"
  }
 },
 "nbformat": 4,
 "nbformat_minor": 5
}
